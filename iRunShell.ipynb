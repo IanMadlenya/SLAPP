{
 "cells": [
  {
   "cell_type": "code",
   "execution_count": 1,
   "metadata": {
    "scrolled": false
   },
   "outputs": [
    {
     "name": "stdout",
     "output_type": "stream",
     "text": [
      "\n",
      "SLAPP v.3.0.1 build 20170515\n",
      "\n",
      "Project name? basic\n",
      "SLAPP starting without any matplotlib magic command\n",
      "'%matplotlib inline' magic command NOW SET\n",
      "running in IPython\n",
      "debug = False\n",
      "\n",
      "Project version 1.3\n",
      "random number seed (1 to get it from the clock) 3\n",
      "How many 'bland' agents? 3\n",
      "X size of the world?  50\n",
      "Y size of the world?  50\n",
      "How many cycles? (0 = exit) 3\n",
      "\n",
      "Agents and their classes\n",
      "agents tasteA have class Agent\n",
      "agents tasteB have class Agent\n",
      "agents tasteC have class Agent\n",
      "'bland' agents, if any, have always class Agent\n",
      "\n",
      "Warning: operating sets not found.\n",
      "World state has been created.\n",
      "agent bland # 0 has been created at -10 , 12\n",
      "agent bland # 1 has been created at 9 , -17\n",
      "agent bland # 2 has been created at -2 , 13\n",
      "\n",
      "File tasteA converted: .txtx => .txt\n",
      "\n",
      "No tasteB agents: lacking the specific file tasteB.txt\n",
      "\n",
      "Error in file tasteA.txt\n"
     ]
    },
    {
     "ename": "SystemExit",
     "evalue": "1",
     "output_type": "error",
     "traceback": [
      "An exception has occurred, use %tb to see the full traceback.\n",
      "\u001b[0;31mSystemExit\u001b[0m\u001b[0;31m:\u001b[0m 1\n"
     ]
    }
   ],
   "source": [
    "%run runShell.py"
   ]
  }
 ],
 "metadata": {
  "kernelspec": {
   "display_name": "Python 3",
   "language": "python",
   "name": "python3"
  },
  "language_info": {
   "codemirror_mode": {
    "name": "ipython",
    "version": 3
   },
   "file_extension": ".py",
   "mimetype": "text/x-python",
   "name": "python",
   "nbconvert_exporter": "python",
   "pygments_lexer": "ipython3",
   "version": "3.6.1"
  }
 },
 "nbformat": 4,
 "nbformat_minor": 2
}
